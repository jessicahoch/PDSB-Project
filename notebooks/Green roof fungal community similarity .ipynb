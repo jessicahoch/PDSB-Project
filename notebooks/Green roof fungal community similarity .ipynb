{
 "cells": [
  {
   "cell_type": "markdown",
   "metadata": {},
   "source": [
    "# Analysis and visualization of soil fungal communities "
   ]
  },
  {
   "cell_type": "markdown",
   "metadata": {},
   "source": [
    "### 1) Load packages"
   ]
  },
  {
   "cell_type": "code",
   "execution_count": null,
   "metadata": {},
   "outputs": [],
   "source": [
    "## install.packages(phyloseq)\n",
    "## install.packages(ggplot2)"
   ]
  },
  {
   "cell_type": "code",
   "execution_count": null,
   "metadata": {},
   "outputs": [],
   "source": [
    "library(ggplot2)\n",
    "library(phyloseq)"
   ]
  },
  {
   "cell_type": "markdown",
   "metadata": {},
   "source": [
    "### 2) Load fungal taxa table "
   ]
  },
  {
   "cell_type": "code",
   "execution_count": 1,
   "metadata": {},
   "outputs": [],
   "source": [
    "otu = read.delim(\"/Users/jessicahoch/Downloads/green_roof_mar18_otu_table_r13000_wTaxa.txt\")"
   ]
  },
  {
   "cell_type": "markdown",
   "metadata": {},
   "source": [
    "### 3) Set taxa IDs as row names "
   ]
  },
  {
   "cell_type": "code",
   "execution_count": 2,
   "metadata": {},
   "outputs": [],
   "source": [
    "rownames(otu) = otu$OTU_ID"
   ]
  },
  {
   "cell_type": "markdown",
   "metadata": {},
   "source": [
    "### 4) Get rid of taxanomic information "
   ]
  },
  {
   "cell_type": "code",
   "execution_count": 3,
   "metadata": {},
   "outputs": [],
   "source": [
    "itsMap = as.matrix(otu[,-(1:8)])"
   ]
  },
  {
   "cell_type": "markdown",
   "metadata": {},
   "source": [
    "### 5) Create dataframe with taxanomic information"
   ]
  },
  {
   "cell_type": "code",
   "execution_count": 12,
   "metadata": {},
   "outputs": [],
   "source": [
    "taxa = as.matrix(otu[,c(2:8)])"
   ]
  },
  {
   "cell_type": "markdown",
   "metadata": {},
   "source": [
    "### 6) Load metadata "
   ]
  },
  {
   "cell_type": "code",
   "execution_count": 14,
   "metadata": {},
   "outputs": [],
   "source": [
    "meta = read.delim(\"/Users/jessicahoch/Downloads/fungal-otu-metadata.txt\")"
   ]
  },
  {
   "cell_type": "markdown",
   "metadata": {},
   "source": [
    "### 7) Make a data frame of sample names for merging "
   ]
  },
  {
   "cell_type": "code",
   "execution_count": 16,
   "metadata": {},
   "outputs": [],
   "source": [
    "sample = data.frame(colnames(itsMap))"
   ]
  },
  {
   "cell_type": "markdown",
   "metadata": {},
   "source": [
    "### 8) Transform the OTU table"
   ]
  },
  {
   "cell_type": "code",
   "execution_count": null,
   "metadata": {},
   "outputs": [],
   "source": [
    "X_its = otu_table(itsMap, taxa_are_rows = TRUE)\n",
    "tax = tax_table(taxa)"
   ]
  },
  {
   "cell_type": "markdown",
   "metadata": {},
   "source": [
    "### 9) Combine the transformed tables to a phyloseq object "
   ]
  },
  {
   "cell_type": "code",
   "execution_count": null,
   "metadata": {},
   "outputs": [],
   "source": [
    "physeq = phyloseq(X_its, tax)"
   ]
  },
  {
   "cell_type": "markdown",
   "metadata": {},
   "source": [
    "### 10) Add metadata to the phyloseq object "
   ]
  },
  {
   "cell_type": "code",
   "execution_count": null,
   "metadata": {},
   "outputs": [],
   "source": [
    "sampledata = sample_data(data.frame(meta,row.names=sample_names(physeq),stringsAsFactors=FALSE))\n",
    "Xphyseq = merge_phyloseq(physeq, sampledata)"
   ]
  },
  {
   "cell_type": "markdown",
   "metadata": {},
   "source": [
    "### 11) Create function that scales the data "
   ]
  },
  {
   "cell_type": "code",
   "execution_count": null,
   "metadata": {},
   "outputs": [],
   "source": [
    "scale_reads <- function(physeq,n) {\n",
    "  physeq.scale <-\n",
    "    transform_sample_counts(physeq, function(x) {\n",
    "      (n * x/sum(x))\n",
    "    })\n",
    "  otu_table(physeq.scale) <- floor(otu_table(physeq.scale))\n",
    "  physeq.scale <- prune_taxa(taxa_sums(physeq.scale) > 10, physeq.scale)\n",
    "  return(physeq.scale)\n",
    "}"
   ]
  },
  {
   "cell_type": "code",
   "execution_count": null,
   "metadata": {},
   "outputs": [],
   "source": [
    "Xphyseq = scale_reads(Xphyseq_jh, n=1E6)\n"
   ]
  },
  {
   "cell_type": "markdown",
   "metadata": {},
   "source": [
    "### 12) Create dissimilarity matrix (ordinate function)"
   ]
  },
  {
   "cell_type": "code",
   "execution_count": null,
   "metadata": {},
   "outputs": [],
   "source": [
    "ord = function(physeq_object) {\n",
    "  ordinate(\n",
    "    physeq = physeq_object, \n",
    "    method = \"NMDS\", \n",
    "    distance = \"bray\"\n",
    "  )\n",
    "}\n"
   ]
  },
  {
   "cell_type": "code",
   "execution_count": null,
   "metadata": {},
   "outputs": [],
   "source": [
    "Fphyseq = ord(Xphyseq)\n",
    "stressplot(Fphyseq)\n"
   ]
  },
  {
   "cell_type": "markdown",
   "metadata": {},
   "source": [
    "### 13) Visualization (NMDS plot)"
   ]
  },
  {
   "cell_type": "code",
   "execution_count": null,
   "metadata": {},
   "outputs": [],
   "source": [
    "Green_Roof = plot_ordination(\n",
    "  physeq = Xphyseq,\n",
    "  ordination = Fphyseq,\n",
    "  color = (\"Veg_Type\")) + \n",
    "  theme_classic() + \n",
    "  ggtitle(element_blank()) +\n",
    "  geom_point(size = 3)+\n",
    "  scale_color_manual(labels = c(\"Mixed-vegetation\", \"Sedum\"), values = c(\"saddlebrown\", \"lightseagreen\"))+\n",
    "  theme(legend.title=element_blank())+\n",
    "  theme(axis.text = element_text(size=16))+\n",
    "  theme(axis.title=element_text(size=16))+\n",
    "  theme(legend.text = element_text(size=20))\n",
    "Green_Roof"
   ]
  },
  {
   "cell_type": "markdown",
   "metadata": {},
   "source": [
    "### 14) Analysis of similarity "
   ]
  },
  {
   "cell_type": "code",
   "execution_count": null,
   "metadata": {},
   "outputs": [],
   "source": [
    "green_roof <- phyloseq::distance(Xphyseq, method = \"bray\")\n",
    "green_roof_samples <- data.frame(sample_data(Xphyseq))\n",
    "anosim(green_roof, green_roof_samples$Veg_Type)\n",
    "### Sedum vs mixed-veg --> p<0.001"
   ]
  }
 ],
 "metadata": {
  "kernelspec": {
   "display_name": "R",
   "language": "R",
   "name": "ir"
  },
  "language_info": {
   "codemirror_mode": "r",
   "file_extension": ".r",
   "mimetype": "text/x-r-source",
   "name": "R",
   "pygments_lexer": "r",
   "version": "3.4.3"
  }
 },
 "nbformat": 4,
 "nbformat_minor": 2
}
